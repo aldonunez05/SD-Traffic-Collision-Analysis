{
 "cells": [
  {
   "cell_type": "code",
   "execution_count": 2,
   "id": "01251c31",
   "metadata": {},
   "outputs": [],
   "source": [
    "# Training 4 models: Random Forest, Logisitc Regression, XGBoost, LightGBM\n",
    "import pandas as pd\n",
    "import matplotlib.pyplot as plt\n",
    "import seaborn as sns\n",
    "\n",
    "from sklearn.model_selection import train_test_split\n",
    "from sklearn.metrics import classification_report, confusion_matrix\n",
    "from sklearn.preprocessing import LabelEncoder\n",
    "from sklearn.ensemble import RandomForestClassifier\n",
    "from sklearn.linear_model import LogisticRegression\n",
    "from xgboost import XGBClassifier\n",
    "from lightgbm import LGBMClassifier\n",
    "from imblearn.over_sampling import SMOTE"
   ]
  },
  {
   "cell_type": "code",
   "execution_count": null,
   "id": "a80ed752",
   "metadata": {},
   "outputs": [
    {
     "name": "stdout",
     "output_type": "stream",
     "text": [
      "    hour  day_of_week  month  ...  violation_type  hit_run_lvl  severity_label\n",
      "0     12            3      3  ...               2            1            none\n",
      "3     11            0      7  ...               2            1            none\n",
      "5      7            0      9  ...               2            1            none\n",
      "7     11            0      1  ...               2            1            none\n",
      "11     8            0      2  ...               2            1            none\n",
      "\n",
      "[5 rows x 9 columns]\n"
     ]
    }
   ],
   "source": [
    "# Load dataset\n",
    "df = pd.read_csv(\"../data/pd_collisions_datasd.csv\")\n",
    "\n",
    "# fixing datetime\n",
    "df['date_time'] = pd.to_datetime(df['date_time'])\n",
    "\n",
    "df['hour'] = df['date_time'].dt.hour\n",
    "df['day_of_week'] = df['date_time'].dt.dayofweek\n",
    "df['month'] = df['date_time'].dt.month\n",
    "df['is_weekend'] = df['day_of_week'].apply(lambda x: x >= 5)\n",
    "df['rush_hour'] = df['hour'].apply(lambda x: 7 <= x <= 9 or 16 <= x <= 18)\n",
    "\n",
    "# Target Engineering (severity)\n",
    "df['severity'] = df['injured'] + 3 * df['killed']\n",
    "df['severity_label'] = pd.cut(df['severity'], bins=[-1, 0, 2, 100], labels=['none', 'injury', 'fatal'])\n",
    "\n",
    "# selecting features\n",
    "features = ['hour', 'day_of_week', 'month', 'is_weekend', 'rush_hour', \n",
    "            'police_beat', 'violation_type', 'hit_run_lvl']\n",
    "target = 'severity_label'\n",
    "\n",
    "df_model = df[features + [target]].dropna()\n",
    "\n",
    "# encode categorical features\n",
    "cat_cols = ['police_beat', 'violation_type', 'hit_run_lvl']\n",
    "for col in cat_cols:\n",
    "    df_model[col] = LabelEncoder().fit_transform(df_model[col].astype(str))\n",
    "\n",
    "df_model['is_weekend'] = df_model['is_weekend'].astype(int)\n",
    "df_model['rush_hour'] = df_model['rush_hour'].astype(int)\n",
    "\n",
    "print(df_model.head())"
   ]
  },
  {
   "cell_type": "code",
   "execution_count": 10,
   "id": "a07bdf29",
   "metadata": {},
   "outputs": [],
   "source": [
    "# Encode target\n",
    "label_encoder = LabelEncoder()\n",
    "df_model[target] = label_encoder.fit_transform(df_model[target])\n",
    "\n",
    "# Seperate features and target\n",
    "X = df_model.drop('severity_label', axis=1)\n",
    "y = df_model['severity_label']\n",
    "\n",
    "# Train-test split\n",
    "X_train, X_test, y_train, y_test = train_test_split(X, y, test_size=0.3, stratify=y, random_state=42)\n",
    "\n",
    "# Handle imbalance with SMOTE\n",
    "sm = SMOTE(random_state=42)\n",
    "X_train_res, y_train_res = sm.fit_resample(X_train, y_train)"
   ]
  },
  {
   "cell_type": "code",
   "execution_count": 11,
   "id": "0d6c81bb",
   "metadata": {},
   "outputs": [],
   "source": [
    "# Define models\n",
    "models = {\n",
    "    \"Random Forest\": RandomForestClassifier(class_weight=\"balanced\", random_state=42),\n",
    "    \"LogisticRegression\": LogisticRegression(max_iter=1000, class_weight=\"balanced\", random_state=42),\n",
    "    \"XGBoost\": XGBClassifier(use_label_encoder=False, eval_metric=\"mlogloss\", scale_pos_weight=1, random_state=42),\n",
    "    \"LigthGBM\": LGBMClassifier(class_weight='balanced', random_state=42)\n",
    "}"
   ]
  },
  {
   "cell_type": "code",
   "execution_count": 12,
   "id": "04d402c0",
   "metadata": {},
   "outputs": [
    {
     "name": "stdout",
     "output_type": "stream",
     "text": [
      "Classification Report for Random Forest: \n",
      "              precision    recall  f1-score   support\n",
      "\n",
      "       fatal       0.04      0.13      0.06        61\n",
      "      injury       0.17      0.26      0.21      1221\n",
      "        none       0.88      0.79      0.83      7852\n",
      "\n",
      "    accuracy                           0.71      9134\n",
      "   macro avg       0.36      0.39      0.37      9134\n",
      "weighted avg       0.78      0.71      0.74      9134\n",
      "\n",
      "\n",
      "\n"
     ]
    },
    {
     "name": "stderr",
     "output_type": "stream",
     "text": [
      "/Library/Frameworks/Python.framework/Versions/3.9/lib/python3.9/site-packages/sklearn/linear_model/_logistic.py:469: ConvergenceWarning: lbfgs failed to converge (status=1):\n",
      "STOP: TOTAL NO. of ITERATIONS REACHED LIMIT.\n",
      "\n",
      "Increase the number of iterations (max_iter) or scale the data as shown in:\n",
      "    https://scikit-learn.org/stable/modules/preprocessing.html\n",
      "Please also refer to the documentation for alternative solver options:\n",
      "    https://scikit-learn.org/stable/modules/linear_model.html#logistic-regression\n",
      "  n_iter_i = _check_optimize_result(\n",
      "/Library/Frameworks/Python.framework/Versions/3.9/lib/python3.9/site-packages/xgboost/core.py:158: UserWarning: [12:39:25] WARNING: /Users/runner/work/xgboost/xgboost/src/learner.cc:740: \n",
      "Parameters: { \"scale_pos_weight\", \"use_label_encoder\" } are not used.\n",
      "\n",
      "  warnings.warn(smsg, UserWarning)\n"
     ]
    },
    {
     "name": "stdout",
     "output_type": "stream",
     "text": [
      "Classification Report for LogisticRegression: \n",
      "              precision    recall  f1-score   support\n",
      "\n",
      "       fatal       0.17      0.44      0.25        61\n",
      "      injury       0.15      0.34      0.21      1221\n",
      "        none       0.88      0.70      0.78      7852\n",
      "\n",
      "    accuracy                           0.65      9134\n",
      "   macro avg       0.40      0.50      0.41      9134\n",
      "weighted avg       0.78      0.65      0.70      9134\n",
      "\n",
      "\n",
      "\n",
      "Classification Report for XGBoost: \n",
      "              precision    recall  f1-score   support\n",
      "\n",
      "       fatal       0.02      0.13      0.04        61\n",
      "      injury       0.17      0.30      0.22      1221\n",
      "        none       0.88      0.74      0.80      7852\n",
      "\n",
      "    accuracy                           0.68      9134\n",
      "   macro avg       0.36      0.39      0.35      9134\n",
      "weighted avg       0.78      0.68      0.72      9134\n",
      "\n",
      "\n",
      "\n",
      "[LightGBM] [Info] Auto-choosing row-wise multi-threading, the overhead of testing was 0.006105 seconds.\n",
      "You can set `force_row_wise=true` to remove the overhead.\n",
      "And if memory is not enough, you can set `force_col_wise=true`.\n",
      "[LightGBM] [Info] Total Bins 188\n",
      "[LightGBM] [Info] Number of data points in the train set: 54960, number of used features: 8\n",
      "[LightGBM] [Info] Start training from score -1.098612\n",
      "[LightGBM] [Info] Start training from score -1.098612\n",
      "[LightGBM] [Info] Start training from score -1.098612\n",
      "Classification Report for LigthGBM: \n",
      "              precision    recall  f1-score   support\n",
      "\n",
      "       fatal       0.03      0.21      0.05        61\n",
      "      injury       0.17      0.30      0.22      1221\n",
      "        none       0.88      0.73      0.80      7852\n",
      "\n",
      "    accuracy                           0.67      9134\n",
      "   macro avg       0.36      0.41      0.35      9134\n",
      "weighted avg       0.78      0.67      0.71      9134\n",
      "\n",
      "\n",
      "\n"
     ]
    }
   ],
   "source": [
    "# Fit and Evaluate\n",
    "results = {}\n",
    "for name, model in models.items():\n",
    "    model.fit(X_train_res, y_train_res)\n",
    "    y_pred = model.predict(X_test)\n",
    "    report = classification_report(y_test, y_pred, target_names=label_encoder.classes_, output_dict=True)\n",
    "    results[name] = report\n",
    "    print(f\"Classification Report for {name}: \")\n",
    "    print(classification_report(y_test, y_pred, target_names=label_encoder.classes_))\n",
    "    print(\"\\n\")"
   ]
  },
  {
   "cell_type": "code",
   "execution_count": 15,
   "id": "519332c8",
   "metadata": {},
   "outputs": [
    {
     "data": {
      "image/png": "[encoded data removed]",
      "text/plain": [
       "<Figure size 1000x600 with 1 Axes>"
      ]
     },
     "metadata": {},
     "output_type": "display_data"
    }
   ],
   "source": [
    "# Plot Macro F1-scores\n",
    "macro_f1_scores = [results[m]['macro avg']['f1-score'] for m in models]\n",
    "plt.figure(figsize=(10,6))\n",
    "sns.barplot(x=list(models.keys()), y=macro_f1_scores)\n",
    "plt.title(\"Macro F1-score Comparison\")\n",
    "plt.ylabel(\"F1-score\")\n",
    "plt.xlabel(\"Model\")\n",
    "plt.ylim(0,1)\n",
    "plt.xticks(rotation=45)\n",
    "plt.tight_layout()\n",
    "plt.show()"
   ]
  },
  {
   "cell_type": "code",
   "execution_count": null,
   "id": "af3da9e1",
   "metadata": {},
   "outputs": [],
   "source": []
  }
 ],
 "metadata": {
  "kernelspec": {
   "display_name": "Python 3",
   "language": "python",
   "name": "python3"
  },
  "language_info": {
   "codemirror_mode": {
    "name": "ipython",
    "version": 3
   },
   "file_extension": ".py",
   "mimetype": "text/x-python",
   "name": "python",
   "nbconvert_exporter": "python",
   "pygments_lexer": "ipython3",
   "version": "3.9.7"
  }
 },
 "nbformat": 4,
 "nbformat_minor": 5
}
