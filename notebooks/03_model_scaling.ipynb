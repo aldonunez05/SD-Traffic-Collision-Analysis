{
 "cells": [
  {
   "cell_type": "code",
   "execution_count": 19,
   "id": "69e37110",
   "metadata": {},
   "outputs": [],
   "source": [
    "# Enchanced Random Forest Performance\n",
    "import pandas as pd\n",
    "import numpy as np\n",
    "from sklearn.model_selection import train_test_split\n",
    "from sklearn.preprocessing import LabelEncoder\n",
    "from sklearn.metrics import classification_report\n",
    "from sklearn.ensemble import RandomForestClassifier\n",
    "from sklearn.linear_model import LogisticRegression\n",
    "from xgboost import XGBClassifier\n",
    "from imblearn.over_sampling import SMOTE\n",
    "from sklearn.ensemble import VotingClassifier"
   ]
  },
  {
   "cell_type": "code",
   "execution_count": 20,
   "id": "76f67638",
   "metadata": {},
   "outputs": [],
   "source": [
    "# Load Dataset\n",
    "df = pd.read_csv('../data/pd_collisions_datasd.csv')\n",
    "\n",
    "#Fix datetime\n",
    "df['date_time'] = pd.to_datetime(df['date_time'])\n",
    "df['hour'] = df['date_time'].dt.hour\n",
    "df['day_of_week'] = df['date_time'].dt.dayofweek\n",
    "df['month'] = df['date_time'].dt.month\n",
    "df['is_weekend'] = df['day_of_week'].apply(lambda x: x >= 5)\n",
    "df['rush_hour'] = df['hour'].apply(lambda x: 7 <= x <= 9 or 16 <= x <= 18)\n"
   ]
  },
  {
   "cell_type": "code",
   "execution_count": 21,
   "id": "496024e0",
   "metadata": {},
   "outputs": [],
   "source": [
    "# Target Engineering\n",
    "df['severity'] = df['injured'] + 3 * df['killed']\n",
    "df['severity_label'] = pd.cut(df['severity'], bins = [-1, 0, 2, 100], labels=['none', 'injury', 'fatal'])\n",
    "\n",
    "# Interaction features\n",
    "df['beat_rush'] = df['police_beat'].astype(str) + \"_\" + df['rush_hour'].astype(str)\n",
    "df['beat_weekend'] = df['police_beat'].astype(str) + '_' + df['is_weekend'].astype(str)\n",
    "\n",
    "# Select features\n",
    "features = ['hour', 'day_of_week', 'month', 'is_weekend', 'rush_hour',\n",
    "            'violation_type', 'hit_run_lvl', 'beat_rush', 'beat_weekend']\n"
   ]
  },
  {
   "cell_type": "code",
   "execution_count": 22,
   "id": "320bffb9",
   "metadata": {},
   "outputs": [],
   "source": [
    "# Add one-hot encoded police_beat\n",
    "df = pd.get_dummies(df, columns=['police_beat'], drop_first=True)\n",
    "features += [col for col in df.columns if col.startswith('police_beat_')]\n",
    "\n",
    "target = 'severity_label'\n",
    "df_model = df[features + [target]].dropna()\n",
    "\n",
    "# Encode categorical features\n",
    "cat_cols = ['violation_type', 'hit_run_lvl', 'beat_rush', 'beat_weekend']\n",
    "for col in cat_cols:\n",
    "    df_model[col] = LabelEncoder().fit_transform(df_model[col].astype(str))\n",
    "\n",
    "df_model['is_weekend'] = df_model['is_weekend'].astype(int)\n",
    "df_model['rush_hour'] = df_model['rush_hour'].astype(int)\n",
    "df_model[target] = LabelEncoder().fit_transform(df_model[target])"
   ]
  },
  {
   "cell_type": "code",
   "execution_count": 23,
   "id": "7d702b65",
   "metadata": {},
   "outputs": [],
   "source": [
    "# Prepare data\n",
    "X = df_model.drop(columns=[target])\n",
    "y = df_model[target]\n",
    "\n",
    "# Train / test split\n",
    "X_train, X_test, y_train, y_test = train_test_split(X, y, stratify=y, test_size=0.25, random_state=42)\n",
    "\n",
    "# Oversample with SMOTE\n",
    "smote = SMOTE(random_state=42)\n",
    "X_train_res, y_train_res = smote.fit_resample(X_train, y_train)"
   ]
  },
  {
   "cell_type": "code",
   "execution_count": 24,
   "id": "def301b1",
   "metadata": {},
   "outputs": [],
   "source": [
    "# Initalize models\n",
    "models = {\n",
    "    'Random Forest': RandomForestClassifier(n_estimators=200, max_depth=20, class_weight='balanced',random_state=42),\n",
    "    'LogisticRegression': LogisticRegression(max_iter=5000, class_weight='balanced', random_state=42),\n",
    "    'XGBoost' : XGBClassifier(n_estimators=200, max_depth=6, learning_rate=0.1, event_metric='mlogloss', use_label_encoder=False, random_state=42 )\n",
    "}\n",
    "\n",
    "results = {}"
   ]
  },
  {
   "cell_type": "code",
   "execution_count": 25,
   "id": "6943e356",
   "metadata": {},
   "outputs": [
    {
     "name": "stdout",
     "output_type": "stream",
     "text": [
      "Classification Report for Random Forest: \n",
      "              precision    recall  f1-score   support\n",
      "\n",
      "           0       0.04      0.25      0.07        51\n",
      "           1       0.17      0.23      0.19      1018\n",
      "           2       0.88      0.79      0.83      6543\n",
      "\n",
      "    accuracy                           0.71      7612\n",
      "   macro avg       0.36      0.42      0.36      7612\n",
      "weighted avg       0.78      0.71      0.74      7612\n",
      "\n"
     ]
    },
    {
     "name": "stderr",
     "output_type": "stream",
     "text": [
      "/Library/Frameworks/Python.framework/Versions/3.9/lib/python3.9/site-packages/sklearn/linear_model/_logistic.py:469: ConvergenceWarning: lbfgs failed to converge (status=1):\n",
      "STOP: TOTAL NO. of ITERATIONS REACHED LIMIT.\n",
      "\n",
      "Increase the number of iterations (max_iter) or scale the data as shown in:\n",
      "    https://scikit-learn.org/stable/modules/preprocessing.html\n",
      "Please also refer to the documentation for alternative solver options:\n",
      "    https://scikit-learn.org/stable/modules/linear_model.html#logistic-regression\n",
      "  n_iter_i = _check_optimize_result(\n"
     ]
    },
    {
     "name": "stdout",
     "output_type": "stream",
     "text": [
      "Classification Report for LogisticRegression: \n",
      "              precision    recall  f1-score   support\n",
      "\n",
      "           0       0.14      0.20      0.16        51\n",
      "           1       0.19      0.24      0.22      1018\n",
      "           2       0.88      0.84      0.86      6543\n",
      "\n",
      "    accuracy                           0.76      7612\n",
      "   macro avg       0.40      0.43      0.41      7612\n",
      "weighted avg       0.78      0.76      0.77      7612\n",
      "\n"
     ]
    },
    {
     "name": "stderr",
     "output_type": "stream",
     "text": [
      "[17:44:09] WARNING: /Users/runner/work/xgboost/xgboost/src/learner.cc:740: \n",
      "Parameters: { \"event_metric\", \"use_label_encoder\" } are not used.\n",
      "\n"
     ]
    },
    {
     "name": "stdout",
     "output_type": "stream",
     "text": [
      "Classification Report for XGBoost: \n",
      "              precision    recall  f1-score   support\n",
      "\n",
      "           0       0.05      0.22      0.08        51\n",
      "           1       0.17      0.32      0.22      1018\n",
      "           2       0.88      0.73      0.80      6543\n",
      "\n",
      "    accuracy                           0.67      7612\n",
      "   macro avg       0.37      0.42      0.37      7612\n",
      "weighted avg       0.78      0.67      0.72      7612\n",
      "\n"
     ]
    }
   ],
   "source": [
    "# Fit models and eval\n",
    "for name, model in models.items():\n",
    "    model.fit(X_train_res, y_train_res)\n",
    "    y_pred = model.predict(X_test)\n",
    "    report = classification_report(y_test, y_pred, output_dict=True)\n",
    "    results[name] = report\n",
    "    print(f\"Classification Report for {name}: \")\n",
    "    print(classification_report(y_test, y_pred))\n",
    "\n"
   ]
  },
  {
   "cell_type": "code",
   "execution_count": 27,
   "id": "5771fb5b",
   "metadata": {},
   "outputs": [
    {
     "name": "stderr",
     "output_type": "stream",
     "text": [
      "/Library/Frameworks/Python.framework/Versions/3.9/lib/python3.9/site-packages/sklearn/linear_model/_logistic.py:469: ConvergenceWarning: lbfgs failed to converge (status=1):\n",
      "STOP: TOTAL NO. of ITERATIONS REACHED LIMIT.\n",
      "\n",
      "Increase the number of iterations (max_iter) or scale the data as shown in:\n",
      "    https://scikit-learn.org/stable/modules/preprocessing.html\n",
      "Please also refer to the documentation for alternative solver options:\n",
      "    https://scikit-learn.org/stable/modules/linear_model.html#logistic-regression\n",
      "  n_iter_i = _check_optimize_result(\n",
      "[17:56:17] WARNING: /Users/runner/work/xgboost/xgboost/src/learner.cc:740: \n",
      "Parameters: { \"event_metric\", \"use_label_encoder\" } are not used.\n",
      "\n"
     ]
    },
    {
     "name": "stdout",
     "output_type": "stream",
     "text": [
      "\n",
      "Classification Report for Voting Ensemble: \n",
      "              precision    recall  f1-score   support\n",
      "\n",
      "           0       0.07      0.24      0.11        51\n",
      "           1       0.17      0.25      0.20      1018\n",
      "           2       0.88      0.80      0.84      6543\n",
      "\n",
      "    accuracy                           0.72      7612\n",
      "   macro avg       0.37      0.43      0.38      7612\n",
      "weighted avg       0.78      0.72      0.75      7612\n",
      "\n"
     ]
    }
   ],
   "source": [
    "#Build ensemble with weighted voting\n",
    "ensemble = VotingClassifier(estimators=[\n",
    "    ('rf', models['Random Forest']),\n",
    "    ('lr', models['LogisticRegression']),\n",
    "    ('xgb', models['XGBoost'])\n",
    "], voting='soft', weights=[3,1,2])\n",
    "\n",
    "ensemble.fit(X_train_res, y_train_res)\n",
    "y_pred_ensemble = ensemble.predict(X_test)\n",
    "print(\"\\nClassification Report for Voting Ensemble: \")\n",
    "print(classification_report(y_test, y_pred_ensemble))"
   ]
  },
  {
   "cell_type": "code",
   "execution_count": null,
   "id": "6975555e",
   "metadata": {},
   "outputs": [],
   "source": []
  }
 ],
 "metadata": {
  "kernelspec": {
   "display_name": "Python 3",
   "language": "python",
   "name": "python3"
  },
  "language_info": {
   "codemirror_mode": {
    "name": "ipython",
    "version": 3
   },
   "file_extension": ".py",
   "mimetype": "text/x-python",
   "name": "python",
   "nbconvert_exporter": "python",
   "pygments_lexer": "ipython3",
   "version": "3.9.7"
  }
 },
 "nbformat": 4,
 "nbformat_minor": 5
}
